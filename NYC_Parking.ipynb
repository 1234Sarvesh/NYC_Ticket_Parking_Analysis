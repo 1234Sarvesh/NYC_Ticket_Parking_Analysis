{
 "cells": [
  {
   "cell_type": "markdown",
   "metadata": {},
   "source": [
    "#                              NYC Parking Tickets: An Exploratory Analysis"
   ]
  },
  {
   "cell_type": "markdown",
   "metadata": {},
   "source": [
    "## Objectives of the Case Study"
   ]
  },
  {
   "cell_type": "markdown",
   "metadata": {},
   "source": [
    "- Primarily, this case study is meant as a deep dive into the usage of Spark. One of the major objectives of this case study is to gain familiarity with how analysis works in PySpark as opposed to base Python.\n",
    "\n",
    "- Learning the basic idea behind using functions in PySpark can help in using other libraries.\n",
    "\n",
    "- The process of running a model-building command boils down to a few lines of code. While drawing inferences from data, the most time-consuming step is preparing the data up to the point of model building. So, this case study will focus more on exploratory analysis."
   ]
  },
  {
   "cell_type": "markdown",
   "metadata": {},
   "source": [
    "## Problem Statement"
   ]
  },
  {
   "cell_type": "markdown",
   "metadata": {},
   "source": [
    "New York City is a thriving metropolis. Just like most other metros its size, one of the biggest problems its citizens face is parking. The classic combination of a huge number of cars and cramped geography leads to a huge number of parking tickets.\n",
    "\n",
    "In an attempt to scientifically analyse this phenomenon, the NYC Police Department has collected data for parking tickets. For the scope of this analysis, we will analyse the parking tickets over the year 2017. \n",
    "\n",
    "The purpose of this case study is to conduct an exploratory data analysis that will understand the data."
   ]
  },
  {
   "cell_type": "markdown",
   "metadata": {},
   "source": [
    "### Step 1. Reading and Inspecting the data"
   ]
  },
  {
   "cell_type": "code",
   "execution_count": 1,
   "metadata": {},
   "outputs": [],
   "source": [
    "# Supress Warnings\n",
    "\n",
    "import warnings\n",
    "warnings.filterwarnings('ignore')"
   ]
  },
  {
   "cell_type": "code",
   "execution_count": 2,
   "metadata": {},
   "outputs": [],
   "source": [
    "# Import the numpy, pandas, datetime, matplotlib, & seaborn packages\n",
    "\n",
    "import numpy as np\n",
    "import pandas as pd\n",
    "import datetime\n",
    "import matplotlib.pyplot as plt\n",
    "import seaborn as sns\n",
    "import findspark\n",
    "findspark.init()\n",
    "sns.set_style(\"whitegrid\", {'axes.grid' : False})"
   ]
  },
  {
   "cell_type": "code",
   "execution_count": 3,
   "metadata": {},
   "outputs": [],
   "source": [
    "# Create a spark session\n",
    "\n",
    "from pyspark.sql import SparkSession\n",
    "spark = SparkSession.builder.appName('NYC Parking Data Analysis').getOrCreate()"
   ]
  },
  {
   "cell_type": "code",
   "execution_count": 4,
   "metadata": {},
   "outputs": [
    {
     "data": {
      "text/plain": [
       "DataFrame[Summons Number: bigint, Plate ID: string, Registration State: string, Plate Type: string, Issue Date: string, Violation Code: int, Vehicle Body Type: string, Vehicle Make: string, Issuing Agency: string, Street Code1: int, Street Code2: int, Street Code3: int, Vehicle Expiration Date: int, Violation Location: int, Violation Precinct: int, Issuer Precinct: int, Issuer Code: int, Issuer Command: string, Issuer Squad: string, Violation Time: string, Time First Observed: string, Violation County: string, Violation In Front Of Or Opposite: string, House Number: string, Street Name: string, Intersecting Street: string, Date First Observed: int, Law Section: int, Sub Division: string, Violation Legal Code: string, Days Parking In Effect    : string, From Hours In Effect: string, To Hours In Effect: string, Vehicle Color: string, Unregistered Vehicle?: int, Vehicle Year: int, Meter Number: string, Feet From Curb: int, Violation Post Code: string, Violation Description: string, No Standing or Stopping Violation: string, Hydrant Violation: string, Double Parking Violation: string]"
      ]
     },
     "execution_count": 4,
     "metadata": {},
     "output_type": "execute_result"
    }
   ],
   "source": [
    "# Read the csv file\n",
    "\n",
    "df = spark.read.format(\"csv\")\\\n",
    "                  .option(\"header\", \"true\")\\\n",
    "                  .option(\"inferSchema\", \"true\")\\\n",
    "                  .load(\"NYC2017.csv\")\n",
    "\n",
    "df"
   ]
  },
  {
   "cell_type": "code",
   "execution_count": 5,
   "metadata": {},
   "outputs": [
    {
     "name": "stdout",
     "output_type": "stream",
     "text": [
      "Summons Number ------ 0.0\n",
      "Plate ID ------------ 9.256663964955012e-06\n",
      "Registration State -- 0.0\n",
      "Plate Type ---------- 0.0\n",
      "Issue Date ---------- 0.0\n",
      "Violation Code ------ 0.0\n",
      "Vehicle Body Type --- 0.39521326798375417\n",
      "Vehicle Make -------- 0.6761715326480687\n",
      "Issuing Agency ------ 0.0\n",
      "Street Code1 -------- 0.0\n",
      "Street Code2 -------- 0.0\n",
      "Street Code3 -------- 0.0\n",
      "Vehicle Expiration Date  0.0\n",
      "Violation Location -- 19.183510400972764\n",
      "Violation Precinct -- 0.0\n",
      "Issuer Precinct ----- 0.0\n",
      "Issuer Code --------- 0.0\n",
      "Issuer Command ------ 19.09321164399463\n",
      "Issuer Squad -------- 19.10150561490723\n",
      "Violation Time ------ 0.0005831698297921657\n",
      "Time First Observed - 92.21748754145597\n",
      "Violation County ---- 0.3660732898220758\n",
      "Violation In Front Of Or Opposite  20.005826144299544\n",
      "House Number -------- 21.184967770147406\n",
      "Street Name --------- 0.03710996583550464\n",
      "Intersecting Street - 68.82767498149592\n",
      "Date First Observed - 0.0\n",
      "Law Section --------- 0.0\n",
      "Sub Division -------- 0.007155401244910223\n",
      "Violation Legal Code  80.90621444283954\n",
      "Days Parking In Effect      25.107923445167412\n",
      "From Hours In Effect  50.45757541311565\n",
      "To Hours In Effect -- 50.45754764312376\n",
      "Vehicle Color ------- 1.4100861351095266\n",
      "Unregistered Vehicle?  89.5622227397726\n",
      "Vehicle Year -------- 0.0\n",
      "Meter Number -------- 83.47247642049989\n",
      "Feet From Curb ------ 0.0\n",
      "Violation Post Code - 29.53048904436793\n",
      "Violation Description  10.436610920567826\n",
      "No Standing or Stopping Violation  100.0\n",
      "Hydrant Violation --- 100.0\n",
      "Double Parking Violation  100.0\n"
     ]
    }
   ],
   "source": [
    "#checking null values\n",
    "\n",
    "c=df.count()\n",
    "for i in df.columns:\n",
    "    print(i,(20-len(i))*\"-\",((df.filter(df[i].isNull()).count())/c)*100)"
   ]
  },
  {
   "cell_type": "code",
   "execution_count": 6,
   "metadata": {},
   "outputs": [
    {
     "name": "stdout",
     "output_type": "stream",
     "text": [
      "+--------------+--------+------------------+----------+----------+--------------+-----------------+------------+--------------+------------+------------+------------+-----------------------+------------------+------------------+---------------+-----------+--------------+------------+--------------+----------------+---------------------------------+------------+--------------------+-------------------+-------------------+-----------+------------+--------------------------+--------------------+------------------+-------------+------------+--------------+-------------------+---------------------+\n",
      "|Summons Number|Plate ID|Registration State|Plate Type|Issue Date|Violation Code|Vehicle Body Type|Vehicle Make|Issuing Agency|Street Code1|Street Code2|Street Code3|Vehicle Expiration Date|Violation Location|Violation Precinct|Issuer Precinct|Issuer Code|Issuer Command|Issuer Squad|Violation Time|Violation County|Violation In Front Of Or Opposite|House Number|         Street Name|Intersecting Street|Date First Observed|Law Section|Sub Division|Days Parking In Effect    |From Hours In Effect|To Hours In Effect|Vehicle Color|Vehicle Year|Feet From Curb|Violation Post Code|Violation Description|\n",
      "+--------------+--------+------------------+----------+----------+--------------+-----------------+------------+--------------+------------+------------+------------+-----------------------+------------------+------------------+---------------+-----------+--------------+------------+--------------+----------------+---------------------------------+------------+--------------------+-------------------+-------------------+-----------+------------+--------------------------+--------------------+------------------+-------------+------------+--------------+-------------------+---------------------+\n",
      "|    5092469481| GZH7067|                NY|       PAS|07/10/2016|             7|             SUBN|       TOYOT|             V|           0|           0|           0|                      0|              null|                 0|              0|          0|          null|        null|         0143A|              BX|                             null|        null|ALLERTON AVE (W/B) @|         BARNES AVE|                  0|       1111|           D|                      null|                null|              null|           GY|        2001|             0|               null| FAILURE TO STOP A...|\n",
      "|    5092451658| GZH7067|                NY|       PAS|07/08/2016|             7|             SUBN|       TOYOT|             V|           0|           0|           0|                      0|              null|                 0|              0|          0|          null|        null|         0400P|              BX|                             null|        null|ALLERTON AVE (W/B) @|         BARNES AVE|                  0|       1111|           D|                      null|                null|              null|           GY|        2001|             0|               null| FAILURE TO STOP A...|\n",
      "|    4006265037| FZX9232|                NY|       PAS|08/23/2016|             5|             SUBN|        FORD|             V|           0|           0|           0|                      0|              null|                 0|              0|          0|          null|        null|         0233P|              BX|                             null|        null|SB WEBSTER AVE @ E 1|            94TH ST|                  0|       1111|           C|                      null|                null|              null|           BK|        2004|             0|               null|   BUS LANE VIOLATION|\n",
      "|    8478629828| 66623ME|                NY|       COM|06/14/2017|            47|             REFG|       MITSU|             T|       10610|       34330|       34350|               20180630|                14|                14|             14|     359594|          T102|           J|         1120A|              NY|                                O|         330|             7th Ave|               null|                  0|        408|          l2|                         Y|               0700A|             0700P|           WH|        2007|             0|                 04| 47-Double PKG-Mid...|\n",
      "|    7868300310| 37033JV|                NY|       COM|11/21/2016|            69|             DELV|       INTER|             T|       10510|       34310|       34330|               20170228|                13|                13|             13|     364832|          T102|           M|         0555P|              NY|                                F|         799|             6th Ave|               null|                  0|        408|          h1|                         Y|               0700A|             0700P|        WHITE|        2007|             0|               31 6| 69-Failure to Dis...|\n",
      "|    5096917368| FZD8593|                NY|       PAS|06/13/2017|             7|             SUBN|       ME/BE|             V|           0|           0|           0|                      0|              null|                 0|              0|          0|          null|        null|         0852P|              QN|                             null|        null| NORTHERN BLVD (E/B)|    @ MARATHON PKWY|                  0|       1111|           D|                      null|                null|              null|           WH|        2012|             0|               null| FAILURE TO STOP A...|\n",
      "|    1413609545|  X20DCM|                NJ|       PAS|08/03/2016|            40|              SDN|       TOYOT|             P|       54070|       39430|       54930|                      0|                71|                71|             71|     960290|          0071|        0000|         0215A|               K|                                F|         439|            KINGSTON|               null|                  0|        408|          C3|                   BBBBBBB|                 ALL|               ALL|        WHITE|           0|             1|               null|                 null|\n",
      "|    4628525523|  326SF9|                MA|       PAS|12/21/2016|            36|               UT|         BMW|             V|           0|           0|           0|                      0|              null|                 0|              0|          0|          null|        null|         0758A|              BX|                             null|        null|EB E GUN HILL RD @ B|          ARNES AVE|                  0|       1180|           B|                      null|                null|              null|         null|        2001|             0|               null| PHTO SCHOOL ZN SP...|\n",
      "|    4627113330| HCA5464|                NY|       OMS|11/21/2016|            36|             SUBN|       DODGE|             V|           0|           0|           0|                      0|              null|                 0|              0|          0|          null|        null|         1005A|              QN|                             null|        null|NB BAISLEY BLVD @ 15|             5TH ST|                  0|       1180|           B|                      null|                null|              null|           BK|        2016|             0|               null| PHTO SCHOOL ZN SP...|\n",
      "|    4006478550| VAD7274|                VA|       PAS|10/05/2016|             5|               4D|         BMW|             V|           0|           0|           0|                      0|              null|                 0|              0|          0|          null|        null|         0845A|              BX|                             null|        null|SB WEBSTER AVE @ E 2|            04TH ST|                  0|       1111|           C|                      null|                null|              null|          BLK|        2008|             0|               null|   BUS LANE VIOLATION|\n",
      "|    1407740258| 2513JMG|                NY|       COM|01/11/2017|            78|             DELV|       FRUEH|             P|           0|       40404|       40404|               20161130|               106|               106|            106|     960979|          0106|        0000|         0015A|               Q|                             null|         126|          ST 115 AVE|               null|                  0|        408|          E2|                   BBBBBBB|                 ALL|               ALL|        WHITE|        2015|             0|               null|                 null|\n",
      "|    8009901763| 13657MD|                NY|       COM|09/27/2016|            19|             DELV|       KENWO|             T|       10510|       34870|       34890|               20170331|                18|                18|             18|     357355|          T400|           A|         0707A|              NY|                                O|        1365|             6th Ave|               null|                  0|        408|          c3|                   YYYYYYY|                null|              null|           RD|        2013|             0|               01 9| 19-No Stand (bus ...|\n",
      "|    4625926610|N102911C|                NY|       OMT|10/27/2016|            36|              VAN|        FORD|             V|           0|           0|           0|                      0|              null|                 0|              0|          0|          null|        null|         1022A|              QN|                             null|        null|EB HORACE HARDING EX|PRESSWAY @ PECK AVE|                  0|       1180|           B|                      null|                null|              null|           WH|        2008|             0|               null| PHTO SCHOOL ZN SP...|\n",
      "|    1416492320| FGR5997|                NY|       PAS|09/30/2016|            21|              SDN|       NISSA|             P|       53620|       74250|       74260|               20170303|                44|                44|             44|     905733|          0044|        0000|         1150A|              BX|                                F|        1224|          NELSON AVE|               null|                  0|        408|          F1|                   BYBBYBB|               1130A|             0100P|          TAN|           0|             0|               null|                 null|\n",
      "|    1413656420|T672371C|                NY|       PAS|02/04/2017|            40|             TAXI|       TOYOT|             P|       59630|       73470|       82230|               20170531|                73|                73|             73|     960758|          0073|        0000|         0525A|               K|                                F|         279|         MCDOUGAL ST|               null|                  0|        408|          F1|                   BBBBBBB|                 ALL|               ALL|          BLK|        2015|             0|               null|                 null|\n",
      "|    7959486440| GYF2052|                NY|       PAS|07/07/2016|            71|             4DSD|       VOLKS|             T|       70407|       17390|       48890|               20170527|               120|               120|            120|     356557|          T303|           E|         0645P|               R|                                F|         143|     N St Austins Pl|               null|                  0|        408|          j6|                      null|                null|              null|           GY|        2012|             0|               C-PM| 71-Insp. Sticker ...|\n",
      "|    5093620865| AD80228|                AZ|       PAS|09/24/2016|             7|               TK|        FORD|             V|           0|           0|           0|                      0|              null|                 0|              0|          0|          null|        null|         1122A|              QN|                             null|        null|SO CONDUIT AVE (E/B)|          @ 89TH ST|                  0|       1111|           D|                      null|                null|              null|         null|        2009|             0|               null| FAILURE TO STOP A...|\n",
      "|    8480309064| 51771JW|                NY|       COM|01/26/2017|            64|              VAN|       INTER|             T|       17850|       10210|       10110|               88888888|                17|                17|             17|     363557|          T102|           L|         0256P|              NY|                                F|         204|           E 43rd St|               null|                  0|        408|          C8|                   YYYYYYY|                null|              null|        BROWN|        2007|             0|                 06| 64-No STD Ex Con/...|\n",
      "|    1416638830|  GLP367|                NY|       PAS|04/30/2017|            20|             SUBN|       DODGE|             P|       17650|       10110|       10010|               20180304|                17|                17|             17|     940179|          0017|        0000|         1232A|              NY|                                O|         330|             E 33 ST|               null|                  0|        408|          E2|                   YYYYYYY|               1200A|             1159P|          BLK|        2009|             0|               null|                 null|\n",
      "|    4630524241|  HJBP29|                FL|       PAS|02/03/2017|            36|               4D|         BMW|             V|           0|           0|           0|                      0|              null|                 0|              0|          0|          null|        null|         1034A|              BK|                             null|        null|WB LINDEN BLVD @ SCH|           ENCK AVE|                  0|       1180|           B|                      null|                null|              null|          SIL|        2009|             0|               null| PHTO SCHOOL ZN SP...|\n",
      "+--------------+--------+------------------+----------+----------+--------------+-----------------+------------+--------------+------------+------------+------------+-----------------------+------------------+------------------+---------------+-----------+--------------+------------+--------------+----------------+---------------------------------+------------+--------------------+-------------------+-------------------+-----------+------------+--------------------------+--------------------+------------------+-------------+------------+--------------+-------------------+---------------------+\n",
      "only showing top 20 rows\n",
      "\n"
     ]
    }
   ],
   "source": [
    "#dropping the columns having greater than 80% null values\n",
    "\n",
    "c=df.count()\n",
    "for i in df.columns:\n",
    "    if (((df.filter(df[i].isNull()).count())/c)*100)>80:\n",
    "        df=df.drop(i)"
   ]
  },
  {
   "cell_type": "code",
   "execution_count": 7,
   "metadata": {},
   "outputs": [
    {
     "name": "stdout",
     "output_type": "stream",
     "text": [
      "Summons Number ------ 0.0\n",
      "Plate ID ------------ 9.256663964955012e-06\n",
      "Registration State -- 0.0\n",
      "Plate Type ---------- 0.0\n",
      "Issue Date ---------- 0.0\n",
      "Violation Code ------ 0.0\n",
      "Vehicle Body Type --- 0.39521326798375417\n",
      "Vehicle Make -------- 0.6761715326480687\n",
      "Issuing Agency ------ 0.0\n",
      "Street Code1 -------- 0.0\n",
      "Street Code2 -------- 0.0\n",
      "Street Code3 -------- 0.0\n",
      "Vehicle Expiration Date  0.0\n",
      "Violation Location -- 19.183510400972764\n",
      "Violation Precinct -- 0.0\n",
      "Issuer Precinct ----- 0.0\n",
      "Issuer Code --------- 0.0\n",
      "Issuer Command ------ 19.09321164399463\n",
      "Issuer Squad -------- 19.10150561490723\n",
      "Violation Time ------ 0.0005831698297921657\n",
      "Violation County ---- 0.3660732898220758\n",
      "Violation In Front Of Or Opposite  20.005826144299544\n",
      "House Number -------- 21.184967770147406\n",
      "Street Name --------- 0.03710996583550464\n",
      "Intersecting Street - 68.82767498149592\n",
      "Date First Observed - 0.0\n",
      "Law Section --------- 0.0\n",
      "Sub Division -------- 0.007155401244910223\n",
      "Days Parking In Effect      25.107923445167412\n",
      "From Hours In Effect  50.45757541311565\n",
      "To Hours In Effect -- 50.45754764312376\n",
      "Vehicle Color ------- 1.4100861351095266\n",
      "Vehicle Year -------- 0.0\n",
      "Feet From Curb ------ 0.0\n",
      "Violation Post Code - 29.53048904436793\n",
      "Violation Description  10.436610920567826\n"
     ]
    }
   ],
   "source": [
    "c=df.count()\n",
    "for i in df.columns:\n",
    "    print(i,(20-len(i))*\"-\",((df.filter(df[i].isNull()).count())/c)*100)"
   ]
  },
  {
   "cell_type": "code",
   "execution_count": 8,
   "metadata": {},
   "outputs": [],
   "source": [
    "# Selecting necessary column\n",
    "\n",
    "df = df.select('Summons Number','Plate ID','Registration State','Issue Date','Violation Code','Vehicle Body Type','Vehicle Make','Violation Precinct','Issuer Precinct','Violation Time')    "
   ]
  },
  {
   "cell_type": "code",
   "execution_count": 9,
   "metadata": {},
   "outputs": [
    {
     "name": "stdout",
     "output_type": "stream",
     "text": [
      "root\n",
      " |-- Summons Number: long (nullable = true)\n",
      " |-- Plate ID: string (nullable = true)\n",
      " |-- Registration State: string (nullable = true)\n",
      " |-- Issue Date: string (nullable = true)\n",
      " |-- Violation Code: integer (nullable = true)\n",
      " |-- Vehicle Body Type: string (nullable = true)\n",
      " |-- Vehicle Make: string (nullable = true)\n",
      " |-- Violation Precinct: integer (nullable = true)\n",
      " |-- Issuer Precinct: integer (nullable = true)\n",
      " |-- Violation Time: string (nullable = true)\n",
      "\n"
     ]
    }
   ],
   "source": [
    "# Show the schema for datatypes\n",
    "\n",
    "df.printSchema()"
   ]
  },
  {
   "cell_type": "code",
   "execution_count": 10,
   "metadata": {},
   "outputs": [
    {
     "data": {
      "text/plain": [
       "10803028"
      ]
     },
     "execution_count": 10,
     "metadata": {},
     "output_type": "execute_result"
    }
   ],
   "source": [
    "# Check for the number of rows \n",
    "\n",
    "df.count()"
   ]
  },
  {
   "cell_type": "code",
   "execution_count": 11,
   "metadata": {},
   "outputs": [
    {
     "data": {
      "text/plain": [
       "10"
      ]
     },
     "execution_count": 11,
     "metadata": {},
     "output_type": "execute_result"
    }
   ],
   "source": [
    "# Check for number of columns\n",
    "\n",
    "len(df.columns)"
   ]
  },
  {
   "cell_type": "code",
   "execution_count": 12,
   "metadata": {},
   "outputs": [
    {
     "name": "stdout",
     "output_type": "stream",
     "text": [
      "+--------------+--------+------------------+----------+--------------+-----------------+------------+------------------+---------------+--------------+\n",
      "|Summons Number|Plate ID|Registration State|Issue Date|Violation Code|Vehicle Body Type|Vehicle Make|Violation Precinct|Issuer Precinct|Violation Time|\n",
      "+--------------+--------+------------------+----------+--------------+-----------------+------------+------------------+---------------+--------------+\n",
      "|    5092469481| GZH7067|                NY|07/10/2016|             7|             SUBN|       TOYOT|                 0|              0|         0143A|\n",
      "|    5092451658| GZH7067|                NY|07/08/2016|             7|             SUBN|       TOYOT|                 0|              0|         0400P|\n",
      "|    4006265037| FZX9232|                NY|08/23/2016|             5|             SUBN|        FORD|                 0|              0|         0233P|\n",
      "|    8478629828| 66623ME|                NY|06/14/2017|            47|             REFG|       MITSU|                14|             14|         1120A|\n",
      "|    7868300310| 37033JV|                NY|11/21/2016|            69|             DELV|       INTER|                13|             13|         0555P|\n",
      "+--------------+--------+------------------+----------+--------------+-----------------+------------+------------------+---------------+--------------+\n",
      "only showing top 5 rows\n",
      "\n"
     ]
    }
   ],
   "source": [
    "# Display the first 5 rows of data\n",
    "\n",
    "df.show(5)"
   ]
  },
  {
   "cell_type": "code",
   "execution_count": 13,
   "metadata": {},
   "outputs": [
    {
     "name": "stdout",
     "output_type": "stream",
     "text": [
      "+-------+--------------------+--------+------------------+----------+------------------+-----------------+------------------+------------------+-----------------+-----------------+\n",
      "|summary|      Summons Number|Plate ID|Registration State|Issue Date|    Violation Code|Vehicle Body Type|      Vehicle Make|Violation Precinct|  Issuer Precinct|   Violation Time|\n",
      "+-------+--------------------+--------+------------------+----------+------------------+-----------------+------------------+------------------+-----------------+-----------------+\n",
      "|  count|            10803028|10803027|          10803028|  10803028|          10803028|         10760333|          10729981|          10803028|         10803028|         10802965|\n",
      "|   mean| 6.817447029065297E9|Infinity|              99.0|      null|34.599430455979565|              NaN| 6519.974025974026| 45.01216260848347|46.82931211508477|909.2857142857143|\n",
      "| stddev|2.3202339623282228E9|     NaN|               0.0|      null|19.359868716323987|              NaN|18091.257389147086|40.552560268436046|62.66703577269474|791.8453853409226|\n",
      "|    min|          1002884949|   #1MOM|                99|01/01/2012|                 0|               00|             ,FREI|                 0|                0|            .240P|\n",
      "|    max|          8585600044|       ~|                WY|12/31/2018|                99|             ZUHE|               ken|               933|              997|            8755P|\n",
      "+-------+--------------------+--------+------------------+----------+------------------+-----------------+------------------+------------------+-----------------+-----------------+\n",
      "\n"
     ]
    }
   ],
   "source": [
    "# Show the statistics\n",
    "\n",
    "df.describe().show()"
   ]
  },
  {
   "cell_type": "code",
   "execution_count": 14,
   "metadata": {},
   "outputs": [
    {
     "name": "stdout",
     "output_type": "stream",
     "text": [
      "+--------------+--------+------------------+----------+--------------+-----------------+------------+------------------+---------------+--------------+\n",
      "|Summons_Number|Plate_ID|Registration_State|Issue_Date|Violation_Code|Vehicle_Body_Type|Vehicle_Make|Violation_Precinct|Issuer_Precinct|Violation_Time|\n",
      "+--------------+--------+------------------+----------+--------------+-----------------+------------+------------------+---------------+--------------+\n",
      "|    5092469481| GZH7067|                NY|07/10/2016|             7|             SUBN|       TOYOT|                 0|              0|         0143A|\n",
      "|    5092451658| GZH7067|                NY|07/08/2016|             7|             SUBN|       TOYOT|                 0|              0|         0400P|\n",
      "|    4006265037| FZX9232|                NY|08/23/2016|             5|             SUBN|        FORD|                 0|              0|         0233P|\n",
      "|    8478629828| 66623ME|                NY|06/14/2017|            47|             REFG|       MITSU|                14|             14|         1120A|\n",
      "|    7868300310| 37033JV|                NY|11/21/2016|            69|             DELV|       INTER|                13|             13|         0555P|\n",
      "+--------------+--------+------------------+----------+--------------+-----------------+------------+------------------+---------------+--------------+\n",
      "only showing top 5 rows\n",
      "\n"
     ]
    }
   ],
   "source": [
    "# Replace ' ' with '_' in column headers so as to avoid any issues while using the queries...\n",
    "\n",
    "df = df.toDF(*(colName.replace(' ', '_') for colName in df.columns))\n",
    "df.show(5)"
   ]
  },
  {
   "cell_type": "code",
   "execution_count": 15,
   "metadata": {},
   "outputs": [],
   "source": [
    "#Converting Issued_Date column string datatype to date datatype\n",
    "from pyspark.sql.functions import col\n",
    "from pyspark.sql.functions import to_date\n",
    "\n",
    "df=df.withColumn(\"Issue_Date\",to_date(col(\"Issue_Date\"),\"MM/dd/yyyy\"))"
   ]
  },
  {
   "cell_type": "code",
   "execution_count": 16,
   "metadata": {},
   "outputs": [
    {
     "name": "stdout",
     "output_type": "stream",
     "text": [
      "Count before dropping null values :  10803028\n",
      "Count after dropping null values  :  10698175\n"
     ]
    }
   ],
   "source": [
    "# Remove null values\n",
    "\n",
    "# Check the count before dropping null values\n",
    "print('Count before dropping null values : ', df.count())\n",
    "\n",
    "# drop null values\n",
    "df = df.na.drop()\n",
    "\n",
    "# Check the count after dropping the null values\n",
    "print('Count after dropping null values  : ', df.count())"
   ]
  },
  {
   "cell_type": "code",
   "execution_count": 17,
   "metadata": {},
   "outputs": [
    {
     "name": "stdout",
     "output_type": "stream",
     "text": [
      "Count before dropping duplicate summon numbers :  10698175\n",
      "Count before dropping duplicate summon numbers :  10698175\n"
     ]
    }
   ],
   "source": [
    "# Drop duplicate values based on the summons number column\n",
    "\n",
    "# Check the count before dropping duplicate summon numbers\n",
    "print('Count before dropping duplicate summon numbers : ', df.count())\n",
    "\n",
    "# drop duplicate summon numbers\n",
    "df.select('Summons_Number').dropDuplicates()\n",
    "\n",
    "# Check the count after dropping duplicate summon numbers\n",
    "print('Count before dropping duplicate summon numbers : ', df.count())"
   ]
  },
  {
   "cell_type": "markdown",
   "metadata": {},
   "source": [
    "There are no duplicate rows in the data"
   ]
  },
  {
   "cell_type": "markdown",
   "metadata": {},
   "source": [
    "### Step 2. Create a Temp Table"
   ]
  },
  {
   "cell_type": "code",
   "execution_count": 19,
   "metadata": {},
   "outputs": [],
   "source": [
    "# Create/Replace a Temp View\n",
    "\n",
    "df.createOrReplaceTempView(\"parking\")"
   ]
  },
  {
   "cell_type": "code",
   "execution_count": 20,
   "metadata": {},
   "outputs": [
    {
     "data": {
      "text/plain": [
       "DataFrame[Summons_Number: bigint, Plate_ID: string, Registration_State: string, Issue_Date: date, Violation_Code: int, Vehicle_Body_Type: string, Vehicle_Make: string, Violation_Precinct: int, Issuer_Precinct: int, Violation_Time: string]"
      ]
     },
     "execution_count": 20,
     "metadata": {},
     "output_type": "execute_result"
    }
   ],
   "source": [
    "# Run a sample query on the parking table\n",
    "\n",
    "spark.sql('select * from parking')"
   ]
  },
  {
   "cell_type": "markdown",
   "metadata": {},
   "source": [
    "### Step 3 : Data Cleaning and Data Preparation"
   ]
  },
  {
   "cell_type": "markdown",
   "metadata": {},
   "source": [
    "#### 3.1. Let us first filter the data for the year 2017 and create a new table with that data"
   ]
  },
  {
   "cell_type": "code",
   "execution_count": 21,
   "metadata": {},
   "outputs": [
    {
     "name": "stdout",
     "output_type": "stream",
     "text": [
      "+----+-------------+\n",
      "|year|no_of_tickets|\n",
      "+----+-------------+\n",
      "|2069|            3|\n",
      "|2068|            1|\n",
      "|2063|            2|\n",
      "|2062|            2|\n",
      "|2060|            2|\n",
      "|2047|            2|\n",
      "|2041|            1|\n",
      "|2036|            1|\n",
      "|2033|            1|\n",
      "|2031|            4|\n",
      "|2030|            9|\n",
      "|2029|            2|\n",
      "|2028|            8|\n",
      "|2027|           46|\n",
      "|2026|           21|\n",
      "|2025|            6|\n",
      "|2024|            3|\n",
      "|2023|            4|\n",
      "|2022|            3|\n",
      "|2021|           19|\n",
      "|2020|           19|\n",
      "|2019|          431|\n",
      "|2018|          962|\n",
      "|2017|      5379170|\n",
      "|2016|      5316554|\n",
      "|2015|          373|\n",
      "|2014|          109|\n",
      "|2013|           59|\n",
      "|2012|           80|\n",
      "|2011|           19|\n",
      "|2010|           43|\n",
      "|2009|            3|\n",
      "|2008|            4|\n",
      "|2007|           17|\n",
      "|2006|            8|\n",
      "|2005|            1|\n",
      "|2004|            2|\n",
      "|2003|            1|\n",
      "|2002|            1|\n",
      "|2001|            2|\n",
      "|2000|          161|\n",
      "|1996|            1|\n",
      "|1994|            1|\n",
      "|1991|            3|\n",
      "|1990|            2|\n",
      "|1985|            1|\n",
      "|1984|            1|\n",
      "|1977|            1|\n",
      "|1976|            1|\n",
      "|1974|            1|\n",
      "|1973|            2|\n",
      "|1972|            2|\n",
      "+----+-------------+\n",
      "\n"
     ]
    }
   ],
   "source": [
    "# Find the total number of tickets for each year\n",
    "\n",
    "year_wise_tickets = spark.sql(\"select year(Issue_Date) as year, count(Summons_Number) as no_of_tickets from parking \\\n",
    "                              group by year order by year desc\")\n",
    "\n",
    "year_wise_tickets.show(70)"
   ]
  },
  {
   "cell_type": "code",
   "execution_count": 22,
   "metadata": {},
   "outputs": [
    {
     "data": {
      "text/plain": [
       "52"
      ]
     },
     "execution_count": 22,
     "metadata": {},
     "output_type": "execute_result"
    }
   ],
   "source": [
    "# Check the count of years for which the summons have been raised\n",
    "\n",
    "year_wise_tickets.count()"
   ]
  },
  {
   "cell_type": "markdown",
   "metadata": {},
   "source": [
    "Following can be inferred from the above results :\n",
    "\n",
    "    - The data contains information about the parking tickets for 52 years between 1972 to 2069\n",
    "    \n",
    "    - 2017 has maximum number of parking tickets followed by 2016\n",
    "    \n",
    "    - Since we would only be analysing 2017 related data, let us filter out only 2017 related data."
   ]
  },
  {
   "cell_type": "code",
   "execution_count": 23,
   "metadata": {},
   "outputs": [
    {
     "data": {
      "text/plain": [
       "5379170"
      ]
     },
     "execution_count": 23,
     "metadata": {},
     "output_type": "execute_result"
    }
   ],
   "source": [
    "# Filter out only 2017 related data\n",
    "\n",
    "parking2017 = spark.sql(\"select * from parking \\\n",
    "                         where year(to_date(cast(unix_timestamp(Issue_Date,'MM/dd/yyyy') as timestamp))) = 2017\")\n",
    "\n",
    "parking2017.count()"
   ]
  },
  {
   "cell_type": "code",
   "execution_count": 24,
   "metadata": {},
   "outputs": [],
   "source": [
    "# Create a new temp table with the 2017 data.\n",
    "\n",
    "parking2017.createOrReplaceTempView(\"parking_2017\")"
   ]
  },
  {
   "cell_type": "code",
   "execution_count": 25,
   "metadata": {},
   "outputs": [
    {
     "name": "stdout",
     "output_type": "stream",
     "text": [
      "+-------------+\n",
      "|summons_count|\n",
      "+-------------+\n",
      "|      5379170|\n",
      "+-------------+\n",
      "\n"
     ]
    }
   ],
   "source": [
    "# Check the count of rows in parking_2017 table\n",
    "\n",
    "spark.sql(\"select count(distinct Summons_Number) as summons_count FROM parking_2017\").show()"
   ]
  },
  {
   "cell_type": "markdown",
   "metadata": {},
   "source": [
    "* Based on the above results the table parking_2017 contains 53,79,170 rows of data"
   ]
  },
  {
   "cell_type": "markdown",
   "metadata": {},
   "source": [
    "#### 3.2. Check the Plate Id for any erroneous data and if exists remove the erroneous data"
   ]
  },
  {
   "cell_type": "code",
   "execution_count": 26,
   "metadata": {},
   "outputs": [
    {
     "name": "stdout",
     "output_type": "stream",
     "text": [
      "+----------+------------+\n",
      "|  plate_id|ticket_count|\n",
      "+----------+------------+\n",
      "|BLANKPLATE|        3378|\n",
      "|   94905JA|         524|\n",
      "|   14828MJ|         518|\n",
      "|   96087MA|         508|\n",
      "|   2121796|         505|\n",
      "|   96089MA|         504|\n",
      "|   85848MD|         499|\n",
      "|   16242TC|         495|\n",
      "|   47603MD|         490|\n",
      "|   30954JX|         489|\n",
      "|   77116MA|         489|\n",
      "|   2194153|         487|\n",
      "|   12359MG|         472|\n",
      "|   16208TC|         464|\n",
      "|   49731MA|         460|\n",
      "|    XEEF98|         456|\n",
      "|   14829MJ|         455|\n",
      "|   2028685|         452|\n",
      "|   49331KA|         451|\n",
      "|   66103JR|         451|\n",
      "+----------+------------+\n",
      "only showing top 20 rows\n",
      "\n"
     ]
    }
   ],
   "source": [
    "# Check the tickets issued based on plate ids\n",
    "\n",
    "check_plate_id = spark.sql(\"select Plate_ID as plate_id, count(*) as ticket_count \\\n",
    "                          from parking_2017 \\\n",
    "                          group by plate_id \\\n",
    "                          having count(*) > 1 \\\n",
    "                          order by ticket_count desc\")\n",
    "\n",
    "check_plate_id.show()"
   ]
  },
  {
   "cell_type": "markdown",
   "metadata": {},
   "source": [
    "The above result shows that there is a plate_id named 'BLANKPLATE' which doesn't seem to be a valid plate it. \n",
    "Hence we shall go ahead and remove the rows pertaining to 'BLANKPLATE' plate_id"
   ]
  },
  {
   "cell_type": "code",
   "execution_count": 27,
   "metadata": {},
   "outputs": [
    {
     "data": {
      "text/plain": [
       "5375792"
      ]
     },
     "execution_count": 27,
     "metadata": {},
     "output_type": "execute_result"
    }
   ],
   "source": [
    "# Remove the rows containing value as BLANKPLATE for plate_id\n",
    "\n",
    "parking2017 = parking2017[parking2017.Plate_ID != 'BLANKPLATE']\n",
    "parking2017.count()"
   ]
  },
  {
   "cell_type": "code",
   "execution_count": 28,
   "metadata": {},
   "outputs": [],
   "source": [
    "# update the temp table with the current data\n",
    "\n",
    "parking2017.createOrReplaceTempView(\"parking_2017\")"
   ]
  },
  {
   "cell_type": "code",
   "execution_count": 29,
   "metadata": {},
   "outputs": [
    {
     "name": "stdout",
     "output_type": "stream",
     "text": [
      "+-------+\n",
      "|  count|\n",
      "+-------+\n",
      "|5375792|\n",
      "+-------+\n",
      "\n"
     ]
    }
   ],
   "source": [
    "# Check the count now \n",
    "\n",
    "spark.sql(\"select count(*) as count FROM parking_2017\").show()"
   ]
  },
  {
   "cell_type": "markdown",
   "metadata": {},
   "source": [
    "#### 3.3. Check the Registered State for any erroneous data and if exists replace the erroneous data with a valid data"
   ]
  },
  {
   "cell_type": "code",
   "execution_count": 30,
   "metadata": {},
   "outputs": [
    {
     "name": "stdout",
     "output_type": "stream",
     "text": [
      "+------------------+------------+\n",
      "|registration_state|ticket_count|\n",
      "+------------------+------------+\n",
      "|                NY|     4244706|\n",
      "|                NJ|      470390|\n",
      "|                PA|      138323|\n",
      "|                CT|       69624|\n",
      "|                FL|       68626|\n",
      "|                IN|       44860|\n",
      "|                MA|       38253|\n",
      "|                VA|       33961|\n",
      "|                MD|       29956|\n",
      "|                NC|       26820|\n",
      "|                TX|       18585|\n",
      "|                IL|       18182|\n",
      "|                GA|       17346|\n",
      "|                AZ|       12180|\n",
      "|                OH|       12137|\n",
      "|                CA|       11985|\n",
      "|                SC|       10302|\n",
      "|                MN|        9709|\n",
      "|                OK|        8816|\n",
      "|                99|        8740|\n",
      "|                ME|        8184|\n",
      "|                DE|        7778|\n",
      "|                TN|        7297|\n",
      "|                MI|        7128|\n",
      "|                RI|        5153|\n",
      "|                NH|        4073|\n",
      "|                VT|        3642|\n",
      "|                AL|        3139|\n",
      "|                WA|        2977|\n",
      "|                OR|        2480|\n",
      "|                MO|        2462|\n",
      "|                ON|        2434|\n",
      "|                QB|        1972|\n",
      "|                IA|        1881|\n",
      "|                DC|        1863|\n",
      "|                WI|        1844|\n",
      "|                CO|        1813|\n",
      "|                KY|        1764|\n",
      "|                DP|        1755|\n",
      "|                LA|        1671|\n",
      "|                MS|        1556|\n",
      "|                WV|        1246|\n",
      "|                AR|         982|\n",
      "|                SD|         844|\n",
      "|                NM|         779|\n",
      "|                ID|         742|\n",
      "|                NV|         720|\n",
      "|                KS|         694|\n",
      "|                NE|         627|\n",
      "|                MT|         500|\n",
      "|                UT|         494|\n",
      "|                NS|         320|\n",
      "|                GV|         295|\n",
      "|                AK|         291|\n",
      "|                ND|         245|\n",
      "|                WY|         184|\n",
      "|                HI|         155|\n",
      "|                AB|          76|\n",
      "|                PE|          57|\n",
      "|                BC|          54|\n",
      "|                NB|          50|\n",
      "|                PR|          37|\n",
      "|                MB|          17|\n",
      "|                SK|           9|\n",
      "|                FO|           7|\n",
      "+------------------+------------+\n",
      "\n"
     ]
    }
   ],
   "source": [
    "# Check the ticket counts based in registered state\n",
    "\n",
    "registered_state_wise_tickets = spark.sql(\"select Registration_State as registration_state, count(*) as ticket_count \\\n",
    "                               from parking_2017 \\\n",
    "                               group by registration_state \\\n",
    "                               order by ticket_count desc\")\n",
    "\n",
    "registered_state_wise_tickets.show(70)"
   ]
  },
  {
   "cell_type": "code",
   "execution_count": 31,
   "metadata": {},
   "outputs": [
    {
     "name": "stdout",
     "output_type": "stream",
     "text": [
      "+-----+\n",
      "|count|\n",
      "+-----+\n",
      "|   65|\n",
      "+-----+\n",
      "\n"
     ]
    }
   ],
   "source": [
    "# Count of distinct Registration states\n",
    "\n",
    "spark.sql(\"select count(distinct Registration_State) as count from parking_2017\").show()"
   ]
  },
  {
   "cell_type": "code",
   "execution_count": 32,
   "metadata": {},
   "outputs": [],
   "source": [
    "# Replace the state named 99 with NY, as NY has the maximum violations.\n",
    "# lit is use to replace constant value with literral \n",
    "\n",
    "from pyspark.sql.functions import when,lit\n",
    "\n",
    "parking2017 = parking2017.withColumn('Registration_State', \\\n",
    "                                     when(parking2017[\"Registration_State\"] == \"99\", lit('NY'))\\\n",
    "                                     .otherwise(parking2017[\"Registration_State\"]))"
   ]
  },
  {
   "cell_type": "code",
   "execution_count": 33,
   "metadata": {},
   "outputs": [],
   "source": [
    "# update the temp table with the current data\n",
    "\n",
    "parking2017.createOrReplaceTempView(\"parking_2017\")"
   ]
  },
  {
   "cell_type": "code",
   "execution_count": 34,
   "metadata": {},
   "outputs": [
    {
     "name": "stdout",
     "output_type": "stream",
     "text": [
      "+------------------+------------+\n",
      "|registration_state|ticket_count|\n",
      "+------------------+------------+\n",
      "|                NY|     4253446|\n",
      "|                NJ|      470390|\n",
      "|                PA|      138323|\n",
      "|                CT|       69624|\n",
      "|                FL|       68626|\n",
      "|                IN|       44860|\n",
      "|                MA|       38253|\n",
      "|                VA|       33961|\n",
      "|                MD|       29956|\n",
      "|                NC|       26820|\n",
      "|                TX|       18585|\n",
      "|                IL|       18182|\n",
      "|                GA|       17346|\n",
      "|                AZ|       12180|\n",
      "|                OH|       12137|\n",
      "|                CA|       11985|\n",
      "|                SC|       10302|\n",
      "|                MN|        9709|\n",
      "|                OK|        8816|\n",
      "|                ME|        8184|\n",
      "|                DE|        7778|\n",
      "|                TN|        7297|\n",
      "|                MI|        7128|\n",
      "|                RI|        5153|\n",
      "|                NH|        4073|\n",
      "|                VT|        3642|\n",
      "|                AL|        3139|\n",
      "|                WA|        2977|\n",
      "|                OR|        2480|\n",
      "|                MO|        2462|\n",
      "|                ON|        2434|\n",
      "|                QB|        1972|\n",
      "|                IA|        1881|\n",
      "|                DC|        1863|\n",
      "|                WI|        1844|\n",
      "|                CO|        1813|\n",
      "|                KY|        1764|\n",
      "|                DP|        1755|\n",
      "|                LA|        1671|\n",
      "|                MS|        1556|\n",
      "|                WV|        1246|\n",
      "|                AR|         982|\n",
      "|                SD|         844|\n",
      "|                NM|         779|\n",
      "|                ID|         742|\n",
      "|                NV|         720|\n",
      "|                KS|         694|\n",
      "|                NE|         627|\n",
      "|                MT|         500|\n",
      "|                UT|         494|\n",
      "|                NS|         320|\n",
      "|                GV|         295|\n",
      "|                AK|         291|\n",
      "|                ND|         245|\n",
      "|                WY|         184|\n",
      "|                HI|         155|\n",
      "|                AB|          76|\n",
      "|                PE|          57|\n",
      "|                BC|          54|\n",
      "|                NB|          50|\n",
      "|                PR|          37|\n",
      "|                MB|          17|\n",
      "|                SK|           9|\n",
      "|                FO|           7|\n",
      "+------------------+------------+\n",
      "\n"
     ]
    }
   ],
   "source": [
    "# Check the ticket counts based on registered state again and see if 10794 rows associated to state 99 has been now added to\n",
    "# NY (4244706 + 8740 = 4253446)\n",
    "\n",
    "registered_state_wise_tickets = spark.sql(\"select Registration_State as registration_state, count(*) as ticket_count \\\n",
    "                               from parking_2017 \\\n",
    "                               group by registration_state \\\n",
    "                               order by ticket_count desc\")\n",
    "\n",
    "registered_state_wise_tickets.show(70)"
   ]
  },
  {
   "cell_type": "markdown",
   "metadata": {},
   "source": [
    "* The above results show that the state by name 99 does not exist anymore and the ticket count for Newyork has increased from \n",
    "  4244706 to 4253446. An increase of 8740, which was the ticket count value for the state 99."
   ]
  },
  {
   "cell_type": "code",
   "execution_count": 35,
   "metadata": {},
   "outputs": [
    {
     "name": "stdout",
     "output_type": "stream",
     "text": [
      "+-----+\n",
      "|count|\n",
      "+-----+\n",
      "|   64|\n",
      "+-----+\n",
      "\n"
     ]
    }
   ],
   "source": [
    "# Count of distinct Registration states\n",
    "\n",
    "spark.sql(\"select count(distinct Registration_State) as count from parking_2017\").show()"
   ]
  },
  {
   "cell_type": "markdown",
   "metadata": {},
   "source": [
    "The number of Registration States has also reduced from 65 to 64"
   ]
  },
  {
   "cell_type": "markdown",
   "metadata": {},
   "source": [
    "### Step 4 : Basic Data Analysis"
   ]
  },
  {
   "cell_type": "markdown",
   "metadata": {},
   "source": [
    "#### 4.1. Check Month Wise Tickets for 2017"
   ]
  },
  {
   "cell_type": "code",
   "execution_count": 36,
   "metadata": {},
   "outputs": [
    {
     "name": "stdout",
     "output_type": "stream",
     "text": [
      "+-----+------------+\n",
      "|month|ticket_count|\n",
      "+-----+------------+\n",
      "|    5|     1008915|\n",
      "|    3|      954513|\n",
      "|    4|      878290|\n",
      "|    1|      868222|\n",
      "|    6|      845979|\n",
      "|    2|      818043|\n",
      "|    7|         333|\n",
      "|    9|         333|\n",
      "|   12|         327|\n",
      "|   11|         306|\n",
      "|    8|         285|\n",
      "|   10|         246|\n",
      "+-----+------------+\n",
      "\n"
     ]
    }
   ],
   "source": [
    "# Let us check which month in the year 2017 has maximum summons\n",
    "\n",
    "month_wise_tickets = spark.sql(\"select month(Issue_Date) as month, count(*) as ticket_count \\\n",
    "                               from parking_2017 \\\n",
    "                               group by month(Issue_Date) \\\n",
    "                               order by ticket_count desc\")\n",
    "\n",
    "month_wise_tickets.show()"
   ]
  },
  {
   "cell_type": "code",
   "execution_count": 37,
   "metadata": {},
   "outputs": [
    {
     "data": {
      "text/plain": [
       "<Figure size 432x288 with 0 Axes>"
      ]
     },
     "metadata": {},
     "output_type": "display_data"
    },
    {
     "data": {
      "image/png": "[encoded data removed]",
      "text/plain": [
       "<Figure size 432x288 with 1 Axes>"
      ]
     },
     "metadata": {},
     "output_type": "display_data"
    }
   ],
   "source": [
    "# create a dataframe with the month wise tickets data\n",
    "\n",
    "month_wise_tickets_df = month_wise_tickets.toPandas()\n",
    "\n",
    "# plot a graph\n",
    "plt.clf()\n",
    "month_wise_tickets_df.plot(x= 'month', y='ticket_count', kind='bar', color='blue')\n",
    "plt.title('Month wise tickets count for 2017', fontsize = 14)\n",
    "plt.xlabel(\"Month\", fontsize = 12)\n",
    "plt.ylabel(\"Ticket Count\", fontsize = 12)\n",
    "plt.legend('')\n",
    "plt.show()"
   ]
  },
  {
   "cell_type": "markdown",
   "metadata": {},
   "source": [
    "* From the above diagram , it can be deduced that May 2017 had the highest parking tickets issued followe by March and April."
   ]
  },
  {
   "cell_type": "markdown",
   "metadata": {},
   "source": [
    "#### 4.2. Top 5 states that have maximum violations"
   ]
  },
  {
   "cell_type": "code",
   "execution_count": 38,
   "metadata": {},
   "outputs": [
    {
     "data": {
      "text/plain": [
       "<Figure size 432x288 with 0 Axes>"
      ]
     },
     "metadata": {},
     "output_type": "display_data"
    },
    {
     "data": {
      "image/png": "[encoded data removed]",
      "text/plain": [
       "<Figure size 432x288 with 1 Axes>"
      ]
     },
     "metadata": {},
     "output_type": "display_data"
    }
   ],
   "source": [
    "# create a dataframe with the ragistered state wise tickets\n",
    "\n",
    "registered_state_wise_tickets_df = registered_state_wise_tickets.toPandas()\n",
    "\n",
    "# plot a graph\n",
    "plt.clf()\n",
    "registered_state_wise_tickets_df.head(5).plot(x='registration_state', y='ticket_count', kind='bar', color ='coral')\n",
    "plt.title('Top 5 States with Maximum Parking Violations for 2017', fontsize = 14)\n",
    "plt.xlabel(\"State\", fontsize = 12)\n",
    "plt.ylabel(\"Ticket Count\", fontsize = 12)\n",
    "plt.legend('')\n",
    "plt.show()"
   ]
  },
  {
   "cell_type": "markdown",
   "metadata": {},
   "source": [
    "* From the above diagram , it can be deduced that New York has the highest parking violations followed by New Jersey and Pennsylvania"
   ]
  },
  {
   "cell_type": "markdown",
   "metadata": {},
   "source": [
    "#### 4.3. Top 5 Plate_Ids that have maximum violations"
   ]
  },
  {
   "cell_type": "code",
   "execution_count": 39,
   "metadata": {},
   "outputs": [
    {
     "name": "stdout",
     "output_type": "stream",
     "text": [
      "+--------+------------+\n",
      "|plate_id|ticket_count|\n",
      "+--------+------------+\n",
      "| 94905JA|         524|\n",
      "| 14828MJ|         518|\n",
      "| 96087MA|         508|\n",
      "| 2121796|         505|\n",
      "| 96089MA|         504|\n",
      "+--------+------------+\n",
      "\n"
     ]
    }
   ],
   "source": [
    "# Top 5 Plate Ids with maximum violations\n",
    "\n",
    "top_5_plate_ids = spark.sql(\"select Plate_ID as plate_id, count(*) as ticket_count \\\n",
    "                             from parking_2017 \\\n",
    "                             group by plate_id \\\n",
    "                             order by ticket_count desc \\\n",
    "                             limit 5\")\n",
    "top_5_plate_ids.show()"
   ]
  },
  {
   "cell_type": "code",
   "execution_count": 40,
   "metadata": {},
   "outputs": [
    {
     "data": {
      "text/plain": [
       "<Figure size 432x288 with 0 Axes>"
      ]
     },
     "metadata": {},
     "output_type": "display_data"
    },
    {
     "data": {
      "image/png": "[encoded data removed]",
      "text/plain": [
       "<Figure size 432x288 with 1 Axes>"
      ]
     },
     "metadata": {},
     "output_type": "display_data"
    }
   ],
   "source": [
    "# create a dataframe with the month wise tickets data\n",
    "\n",
    "top_5_plate_ids_df = top_5_plate_ids.toPandas()\n",
    "\n",
    "# plot a graph\n",
    "plt.clf()\n",
    "top_5_plate_ids_df.plot(x='plate_id', y='ticket_count', kind='bar', color='brown')\n",
    "plt.title(\"Top 5 License Plate Id with Maximum Parking Violations for 2017\", fontsize = 14)\n",
    "plt.xlabel(\"Licence Plate Id\", fontsize = 12)\n",
    "plt.ylabel(\"Ticket Count\", fontsize = 12)\n",
    "plt.legend('')\n",
    "plt.show()"
   ]
  },
  {
   "cell_type": "markdown",
   "metadata": {},
   "source": [
    "* From the above diagram, the plate id 94905JA has the maximum parking violations"
   ]
  },
  {
   "cell_type": "markdown",
   "metadata": {},
   "source": [
    "### Step 5 : Aggregation Tasks"
   ]
  },
  {
   "cell_type": "markdown",
   "metadata": {},
   "source": [
    "#### 5.1 How often does each violation code occur? Display the frequency of the top five violation codes."
   ]
  },
  {
   "cell_type": "code",
   "execution_count": 41,
   "metadata": {},
   "outputs": [
    {
     "name": "stdout",
     "output_type": "stream",
     "text": [
      "+--------------+----------------+\n",
      "|violation_code|ticket_frequency|\n",
      "+--------------+----------------+\n",
      "|            21|          759588|\n",
      "|            36|          661827|\n",
      "|            38|          540060|\n",
      "|            14|          472140|\n",
      "|            20|          317546|\n",
      "+--------------+----------------+\n",
      "\n"
     ]
    }
   ],
   "source": [
    "# How often does each violation code occur? Display the frequency of the top five violation codes\n",
    "\n",
    "violation_code_frequency = spark.sql(\"select Violation_Code as violation_code, count(*) as ticket_frequency \\\n",
    "                                      from parking_2017 \\\n",
    "                                      group by violation_code \\\n",
    "                                      order by ticket_frequency desc \\\n",
    "                                      limit 5\")\n",
    "violation_code_frequency.show()"
   ]
  },
  {
   "cell_type": "code",
   "execution_count": 42,
   "metadata": {},
   "outputs": [
    {
     "data": {
      "text/plain": [
       "<Figure size 432x288 with 0 Axes>"
      ]
     },
     "metadata": {},
     "output_type": "display_data"
    },
    {
     "data": {
      "image/png": "[encoded data removed]",
      "text/plain": [
       "<Figure size 432x288 with 1 Axes>"
      ]
     },
     "metadata": {},
     "output_type": "display_data"
    }
   ],
   "source": [
    "# create a dataframe with the violation_code_frequency\n",
    "\n",
    "violation_code_frequency_df = violation_code_frequency.toPandas()\n",
    "\n",
    "# plot a graph\n",
    "plt.clf()\n",
    "violation_code_frequency_df.plot(x='violation_code', y='ticket_frequency', kind='bar')\n",
    "plt.title('Frequency Of Top 5 Violation Code For 2017', fontsize = 14)\n",
    "plt.xlabel(\"Violation Code\", fontsize = 12)\n",
    "plt.ylabel(\"Ticket Frequency\", fontsize = 12)\n",
    "plt.legend('')\n",
    "plt.show()"
   ]
  },
  {
   "cell_type": "markdown",
   "metadata": {},
   "source": [
    "* From the above result, it can be concluded that the top 3 violation codes are 21, 36 and 38"
   ]
  },
  {
   "cell_type": "markdown",
   "metadata": {},
   "source": [
    "#### 5.2. How often does each 'vehicle body type' get a parking ticket? How about the 'vehicle make'? (Hint: Find the top 5 for both.)"
   ]
  },
  {
   "cell_type": "code",
   "execution_count": 43,
   "metadata": {},
   "outputs": [
    {
     "name": "stdout",
     "output_type": "stream",
     "text": [
      "+-----------------+----------------+\n",
      "|vehicle_body_type|ticket_frequency|\n",
      "+-----------------+----------------+\n",
      "|             SUBN|         1879871|\n",
      "|             4DSD|         1546800|\n",
      "|              VAN|          718670|\n",
      "|             DELV|          351825|\n",
      "|              SDN|          189114|\n",
      "+-----------------+----------------+\n",
      "\n"
     ]
    }
   ],
   "source": [
    "# Display the frequency of the top five Vehicle Body Type getting a parking ticket\n",
    "\n",
    "vehicle_body_type_frequency = spark.sql(\"select Vehicle_Body_Type as vehicle_body_type, count(*) as ticket_frequency \\\n",
    "                                      from parking_2017 \\\n",
    "                                      group by vehicle_body_type \\\n",
    "                                      order by ticket_frequency desc \\\n",
    "                                      limit 5\")\n",
    "\n",
    "vehicle_body_type_frequency.show()"
   ]
  },
  {
   "cell_type": "markdown",
   "metadata": {},
   "source": [
    "* From the above result, it can be concluded that the top 3 vehicle body type are SUBN, 4DSD  and VAN"
   ]
  },
  {
   "cell_type": "code",
   "execution_count": 44,
   "metadata": {},
   "outputs": [
    {
     "data": {
      "text/plain": [
       "<Figure size 432x288 with 0 Axes>"
      ]
     },
     "metadata": {},
     "output_type": "display_data"
    },
    {
     "data": {
      "image/png": "[encoded data removed]",
      "text/plain": [
       "<Figure size 432x288 with 1 Axes>"
      ]
     },
     "metadata": {},
     "output_type": "display_data"
    }
   ],
   "source": [
    "#create a dataframe with the vehicle_body_type_frequency\n",
    "\n",
    "vehicle_body_type_frequency_df = vehicle_body_type_frequency.toPandas()\n",
    "\n",
    "# plot a graph\n",
    "plt.clf()\n",
    "vehicle_body_type_frequency_df.head(5).plot(x='vehicle_body_type', y='ticket_frequency', kind='bar')\n",
    "plt.title('Frequency Of Top 5 Parking Violations Based On Vehicle Body Type For 2017', fontsize = 14)\n",
    "plt.xlabel(\"Vehicle Body Type\", fontsize = 12)\n",
    "plt.ylabel(\"Ticket Frequency\", fontsize = 12)\n",
    "plt.legend('')\n",
    "plt.show()"
   ]
  },
  {
   "cell_type": "code",
   "execution_count": 45,
   "metadata": {},
   "outputs": [
    {
     "name": "stdout",
     "output_type": "stream",
     "text": [
      "+------------+----------------+\n",
      "|vehicle_make|ticket_frequency|\n",
      "+------------+----------------+\n",
      "|        FORD|          635062|\n",
      "|       TOYOT|          603838|\n",
      "|       HONDA|          537252|\n",
      "|       NISSA|          460675|\n",
      "|       CHEVR|          355122|\n",
      "+------------+----------------+\n",
      "\n"
     ]
    }
   ],
   "source": [
    "# Display the frequency of the top five Vehicle Make getting a parking ticket\n",
    "\n",
    "vehicle_make_ticket_frequency = spark.sql(\"select Vehicle_Make as vehicle_make, count(*) as ticket_frequency \\\n",
    "                                          from parking_2017 \\\n",
    "                                          group by vehicle_make \\\n",
    "                                          order by ticket_frequency desc \\\n",
    "                                          limit 5\")\n",
    "vehicle_make_ticket_frequency.show()"
   ]
  },
  {
   "cell_type": "code",
   "execution_count": 46,
   "metadata": {},
   "outputs": [
    {
     "data": {
      "text/plain": [
       "<Figure size 432x288 with 0 Axes>"
      ]
     },
     "metadata": {},
     "output_type": "display_data"
    },
    {
     "data": {
      "image/png": "[encoded data removed]",
      "text/plain": [
       "<Figure size 432x288 with 1 Axes>"
      ]
     },
     "metadata": {},
     "output_type": "display_data"
    }
   ],
   "source": [
    "# create a dataframe with the vehicle_make_ticket_frequency\n",
    "vehicle_make_ticket_frequency_df = vehicle_make_ticket_frequency.toPandas()\n",
    "\n",
    "# plot a graph\n",
    "plt.clf()\n",
    "vehicle_make_ticket_frequency_df.plot(x='vehicle_make', y='ticket_frequency', kind='bar')\n",
    "plt.title('Frequency Of Top 5 Parking Violations Based On Vehicle Make For 2017', fontsize = 14)\n",
    "plt.xlabel(\"Vehicle Make\", fontsize = 12)\n",
    "plt.ylabel(\"Ticket Frequency\", fontsize = 12)\n",
    "plt.legend('')\n",
    "plt.show()"
   ]
  },
  {
   "cell_type": "markdown",
   "metadata": {},
   "source": [
    "* As Per the results from above, it can be inferred that \n",
    "  For Vehicle Make, maximum parking violations happen for Ford follwed by Toyota and Honda"
   ]
  },
  {
   "cell_type": "markdown",
   "metadata": {},
   "source": [
    "#### 5.3. A precinct is a police station that has a certain zone of the city under its command. Find the (5 highest) frequencies of tickets for each of the following :\n",
    "   - <b>'Violation Precinct' (This is the precinct of the zone where the violation occurred). Using this, can you draw any insights for parking violations in any specific areas of the city? \n",
    "   - 'Issuer Precinct' (This is the precinct that issued the ticket.)</b>\n",
    "   \n",
    "Here, you would have noticed that the dataframe has the'Violating Precinct' or 'Issuing Precinct' as '0'. These are erroneous entries. Hence, you need to provide the records for five correct precincts. \n",
    "(Hint: Print the top six entries after sorting.)"
   ]
  },
  {
   "cell_type": "code",
   "execution_count": 47,
   "metadata": {},
   "outputs": [
    {
     "name": "stdout",
     "output_type": "stream",
     "text": [
      "+------------------+----------------+\n",
      "|violation_precinct|ticket_frequency|\n",
      "+------------------+----------------+\n",
      "|                 0|          923336|\n",
      "|                19|          272072|\n",
      "|                14|          200558|\n",
      "|                 1|          172035|\n",
      "|                18|          165943|\n",
      "|               114|          146636|\n",
      "+------------------+----------------+\n",
      "only showing top 6 rows\n",
      "\n"
     ]
    }
   ],
   "source": [
    "# Display the frequency of the top five violation precinct\n",
    "\n",
    "violation_precinct_ticket_frequency = spark.sql(\"select Violation_Precinct as violation_precinct, count(*) as ticket_frequency \\\n",
    "                                                from parking_2017 \\\n",
    "                                                group by violation_precinct \\\n",
    "                                                order by ticket_frequency desc\")\n",
    "violation_precinct_ticket_frequency.show(6)"
   ]
  },
  {
   "cell_type": "code",
   "execution_count": 48,
   "metadata": {},
   "outputs": [
    {
     "data": {
      "image/png": "[encoded data removed]",
      "text/plain": [
       "<Figure size 432x288 with 1 Axes>"
      ]
     },
     "metadata": {},
     "output_type": "display_data"
    }
   ],
   "source": [
    "# create a dataframe with the violation_precinct_ticket_frequency\n",
    "\n",
    "violation_precinct_ticket_frequency_df = violation_precinct_ticket_frequency.toPandas()\n",
    "\n",
    "violation_precinct_ticket_frequency_df[violation_precinct_ticket_frequency_df.violation_precinct != 0].head(5)\\\n",
    "                                        .plot(x='violation_precinct', y='ticket_frequency', kind='bar', color='olive')\n",
    "\n",
    "plt.title('Frequency Of Top 5 Violation Precinct For 2017', fontsize = 14)\n",
    "plt.xlabel(\"Violation Precinct\", fontsize = 12)\n",
    "plt.ylabel(\"Ticket Frequency\", fontsize = 12)\n",
    "plt.legend('')\n",
    "plt.show()"
   ]
  },
  {
   "cell_type": "code",
   "execution_count": 49,
   "metadata": {},
   "outputs": [
    {
     "name": "stdout",
     "output_type": "stream",
     "text": [
      "+---------------+----------------+\n",
      "|issuer_precinct|ticket_frequency|\n",
      "+---------------+----------------+\n",
      "|              0|         1063024|\n",
      "|             19|          264891|\n",
      "|             14|          197911|\n",
      "|              1|          166738|\n",
      "|             18|          160294|\n",
      "|            114|          143446|\n",
      "+---------------+----------------+\n",
      "only showing top 6 rows\n",
      "\n"
     ]
    }
   ],
   "source": [
    "# Display the frequency of the top six issuer precinct\n",
    "\n",
    "issuer_precinct_ticket_frequency = spark.sql(\"select Issuer_Precinct as issuer_precinct, count(*) as ticket_frequency \\\n",
    "                                                from parking_2017 \\\n",
    "                                                group by issuer_precinct \\\n",
    "                                                order by ticket_frequency desc\")\n",
    "\n",
    "issuer_precinct_ticket_frequency.show(6)"
   ]
  },
  {
   "cell_type": "code",
   "execution_count": 50,
   "metadata": {},
   "outputs": [
    {
     "data": {
      "text/plain": [
       "<Figure size 432x288 with 0 Axes>"
      ]
     },
     "metadata": {},
     "output_type": "display_data"
    },
    {
     "data": {
      "image/png": "[encoded data removed]",
      "text/plain": [
       "<Figure size 432x288 with 1 Axes>"
      ]
     },
     "metadata": {},
     "output_type": "display_data"
    }
   ],
   "source": [
    "# create a dataframe with the issuer_precinct_ticket_frequency\n",
    "\n",
    "issuer_precinct_ticket_frequency_df = issuer_precinct_ticket_frequency.toPandas()\n",
    "\n",
    "# plot a graph\n",
    "plt.clf()\n",
    "issuer_precinct_ticket_frequency_df[issuer_precinct_ticket_frequency_df.issuer_precinct != 0].head(5)\\\n",
    "                                        .plot(x='issuer_precinct', y='ticket_frequency', kind='bar', color='olive')\n",
    "\n",
    "plt.title('Frequency Of Top 5 Issuer Precinct For 2017', fontsize = 14)\n",
    "plt.xlabel(\"Issuer Precinct\", fontsize = 12)\n",
    "plt.ylabel(\"Ticket Frequency\", fontsize = 12)\n",
    "plt.legend('')\n",
    "plt.show()"
   ]
  },
  {
   "cell_type": "markdown",
   "metadata": {},
   "source": [
    "* Per the results from above, it can be inferred that the top 3 violation precincts and Issuer Precincts where maximum parking violations happen are 19, 14 and 1    "
   ]
  },
  {
   "cell_type": "markdown",
   "metadata": {},
   "source": [
    "#### 5.4. Find the violation code frequencies for three precincts that have issued the most number of tickets. Do these precinct zones have an exceptionally high frequency of certain violation codes? Are these codes common across precincts? \n",
    "    -(Hint: In the SQL view, use the 'where' attribute to filter among three precincts.)"
   ]
  },
  {
   "cell_type": "markdown",
   "metadata": {},
   "source": [
    "* Solution : From the results of the question above, it is clear that the three precincts that have issued the most number of tickets are 19, 14 and 1.Hence the violation code frequency for the three precincts are as given below :"
   ]
  },
  {
   "cell_type": "code",
   "execution_count": 51,
   "metadata": {},
   "outputs": [
    {
     "name": "stdout",
     "output_type": "stream",
     "text": [
      "+--------------+----------------+\n",
      "|violation_code|ticket_frequency|\n",
      "+--------------+----------------+\n",
      "|            46|           47308|\n",
      "|            38|           36185|\n",
      "|            37|           36020|\n",
      "|            14|           29607|\n",
      "|            21|           28370|\n",
      "+--------------+----------------+\n",
      "\n"
     ]
    }
   ],
   "source": [
    "# Violation code Frquency for Issuer Precinct 19 \n",
    "\n",
    "violation_code_frequency_precinct19 = spark.sql(\"select Violation_Code as violation_code, count(*) as ticket_frequency \\\n",
    "                                                from parking_2017 \\\n",
    "                                                where Issuer_Precinct = 19 \\\n",
    "                                                group by violation_code \\\n",
    "                                                order by ticket_frequency desc \\\n",
    "                                                limit 5 \")\n",
    "\n",
    "violation_code_frequency_precinct19.show()"
   ]
  },
  {
   "cell_type": "code",
   "execution_count": 52,
   "metadata": {},
   "outputs": [
    {
     "name": "stdout",
     "output_type": "stream",
     "text": [
      "+--------------+----------------+\n",
      "|violation_code|ticket_frequency|\n",
      "+--------------+----------------+\n",
      "|            14|           44520|\n",
      "|            69|           30196|\n",
      "|            31|           22481|\n",
      "|            47|           18305|\n",
      "|            42|           10009|\n",
      "+--------------+----------------+\n",
      "\n"
     ]
    }
   ],
   "source": [
    "# Violation code Frquency for Issuer Precinct 14\n",
    "\n",
    "violation_code_frequency_precinct14 = spark.sql(\"select Violation_Code as violation_code, count(*) as ticket_frequency \\\n",
    "                                                from parking_2017 \\\n",
    "                                                where Issuer_Precinct = 14 \\\n",
    "                                                group by violation_code \\\n",
    "                                                order by ticket_frequency desc \\\n",
    "                                                limit 5 \")\n",
    "\n",
    "violation_code_frequency_precinct14.show()"
   ]
  },
  {
   "cell_type": "code",
   "execution_count": 53,
   "metadata": {},
   "outputs": [
    {
     "name": "stdout",
     "output_type": "stream",
     "text": [
      "+--------------+----------------+\n",
      "|violation_code|ticket_frequency|\n",
      "+--------------+----------------+\n",
      "|            14|           37900|\n",
      "|            16|           19076|\n",
      "|            20|           15059|\n",
      "|            46|           12456|\n",
      "|            38|            8508|\n",
      "+--------------+----------------+\n",
      "\n"
     ]
    }
   ],
   "source": [
    "# Violation code Frquency for Issuer Precinct 1\n",
    "\n",
    "violation_code_frequency_precinct1 = spark.sql(\"select Violation_Code as violation_code, count(*) as ticket_frequency \\\n",
    "                                                from parking_2017 \\\n",
    "                                                where Issuer_Precinct = 1 \\\n",
    "                                                group by violation_code \\\n",
    "                                                order by ticket_frequency desc \\\n",
    "                                                limit 5 \")\n",
    "\n",
    "violation_code_frequency_precinct1.show()"
   ]
  },
  {
   "cell_type": "code",
   "execution_count": 54,
   "metadata": {},
   "outputs": [
    {
     "name": "stdout",
     "output_type": "stream",
     "text": [
      "+--------------+----------------+\n",
      "|violation_code|ticket_frequency|\n",
      "+--------------+----------------+\n",
      "|            14|          112027|\n",
      "|            46|           67042|\n",
      "|            38|           47908|\n",
      "|            37|           43737|\n",
      "|            69|           38670|\n",
      "+--------------+----------------+\n",
      "\n"
     ]
    }
   ],
   "source": [
    "# Common violation Codes across issuer precincts 19, 14 and 1\n",
    "\n",
    "common_precincts_violation_codes = spark.sql(\"select Violation_Code as violation_code , count(*) as ticket_frequency \\\n",
    "                                              from parking_2017 \\\n",
    "                                              where Issuer_Precinct in (19, 14, 1) \\\n",
    "                                              group by violation_code \\\n",
    "                                              order by ticket_frequency desc \\\n",
    "                                              limit 5 \")\n",
    "\n",
    "common_precincts_violation_codes.show()"
   ]
  },
  {
   "cell_type": "code",
   "execution_count": 55,
   "metadata": {},
   "outputs": [
    {
     "data": {
      "text/plain": [
       "<Figure size 432x288 with 0 Axes>"
      ]
     },
     "metadata": {},
     "output_type": "display_data"
    },
    {
     "data": {
      "image/png": "[encoded data removed]",
      "text/plain": [
       "<Figure size 432x288 with 1 Axes>"
      ]
     },
     "metadata": {},
     "output_type": "display_data"
    }
   ],
   "source": [
    "# create a dataframe with the common_precincts_violation_codes\n",
    "\n",
    "common_precincts_violation_codes_df = common_precincts_violation_codes.toPandas()\n",
    "\n",
    "# plot a graph\n",
    "plt.clf()\n",
    "common_precincts_violation_codes_df.plot(x='violation_code', y='ticket_frequency', kind='bar')\n",
    "plt.title('Violation Codes Across Issuer Precincts 19, 14 and 1', fontsize = 14)\n",
    "plt.xlabel(\"Violation Codes\", fontsize = 12)\n",
    "plt.ylabel(\"Ticket Frequency\", fontsize = 12)\n",
    "plt.legend('')\n",
    "plt.show()"
   ]
  },
  {
   "cell_type": "markdown",
   "metadata": {},
   "source": [
    "- The top 3 common violation codes across top 3 precincts 19, 14 and 1 where the parking tickets were issued are 14, 46 and 38.\n",
    "- Violation code 14 has exceptionally high frequency of 1,13,155 tickets issued.\n",
    "- While the violation codes 14, 46 and 38 are common across the issuer precinct, the violation code 14 occurs in all the 3 issuer precincts (19, 14 and 1) while violation codes 46 and 38 occur in issuer precincts 19 and 1"
   ]
  },
  {
   "cell_type": "markdown",
   "metadata": {},
   "source": [
    "#### 6.6. Let’s try and find some seasonality in this data:\n",
    "    - First, divide the year into a certain number of seasons, and find the frequencies of tickets for each season. \n",
    "      (Hint: Use Issue Date to segregate into seasons.)\n",
    "    - Then, find the three most common violations for each of these seasons.\n",
    "      (Hint: You can use an approach similar to the one mentioned in the hint for question 4.)    "
   ]
  },
  {
   "cell_type": "markdown",
   "metadata": {},
   "source": [
    "##### 6.6.1. Divide the year into a certain number of seasons, and find the frequencies of tickets for each season."
   ]
  },
  {
   "cell_type": "code",
   "execution_count": 56,
   "metadata": {},
   "outputs": [
    {
     "name": "stdout",
     "output_type": "stream",
     "text": [
      "+--------------+----------+--------------+------+\n",
      "|Summons_Number|Issue_Date|Violation_Code|Season|\n",
      "+--------------+----------+--------------+------+\n",
      "|    8478629828|2017-06-14|            47|summer|\n",
      "|    5096917368|2017-06-13|             7|summer|\n",
      "|    1407740258|2017-01-11|            78|winter|\n",
      "|    1413656420|2017-02-04|            40|winter|\n",
      "|    8480309064|2017-01-26|            64|winter|\n",
      "|    1416638830|2017-04-30|            20|spring|\n",
      "|    4630524241|2017-02-03|            36|winter|\n",
      "|    8505131836|2017-05-27|            38|spring|\n",
      "|    8513520615|2017-05-31|            14|spring|\n",
      "|    8556155431|2017-05-26|            75|spring|\n",
      "+--------------+----------+--------------+------+\n",
      "only showing top 10 rows\n",
      "\n"
     ]
    }
   ],
   "source": [
    "# First let us divide the year into seasons based on the Issue Date\n",
    "\n",
    "# We shall divide the 4 seasons based on Issue Date as follows\n",
    "\n",
    "#     Spring = March to May\n",
    "#     Summer = June to August\n",
    "#     Autumn = September to November\n",
    "#     winter = December to February\n",
    "\n",
    "seasons2017 = spark.sql(\"select Summons_Number, Issue_Date, Violation_Code,  \\\n",
    "                        case \\\n",
    "                            when MONTH(TO_DATE(Issue_Date, 'MM/dd/yyyy')) between 03 and 05 \\\n",
    "                                then 'spring' \\\n",
    "                            when MONTH(TO_DATE(Issue_Date, 'MM/dd/yyyy')) between 06 and 08 \\\n",
    "                                then 'summer' \\\n",
    "                            when MONTH(TO_DATE(Issue_Date, 'MM/dd/yyyy')) between 09 and 11 \\\n",
    "                                then 'autumn' \\\n",
    "                            when MONTH(TO_DATE(Issue_Date, 'MM/dd/yyyy')) in (1,2,12) \\\n",
    "                                then 'winter' \\\n",
    "                            else 'unknown' \\\n",
    "                        end as Season \\\n",
    "                        from parking_2017\")\n",
    "\n",
    "seasons2017.show(10)"
   ]
  },
  {
   "cell_type": "code",
   "execution_count": 57,
   "metadata": {},
   "outputs": [],
   "source": [
    "# Create/Replace a Temp View\n",
    "\n",
    "seasons2017.createOrReplaceTempView(\"seasons_2017\")"
   ]
  },
  {
   "cell_type": "code",
   "execution_count": 58,
   "metadata": {},
   "outputs": [
    {
     "name": "stdout",
     "output_type": "stream",
     "text": [
      "+------+----------------+\n",
      "|season|ticket_frequency|\n",
      "+------+----------------+\n",
      "|spring|         2841718|\n",
      "|winter|         1686592|\n",
      "|summer|          846597|\n",
      "|autumn|             885|\n",
      "+------+----------------+\n",
      "\n"
     ]
    }
   ],
   "source": [
    "# Frequency of tickets based on season\n",
    "\n",
    "parking_violations_on_seasons = spark.sql(\"select Season as season, count(*) as ticket_frequency \\\n",
    "                                           from seasons_2017 \\\n",
    "                                           group by season \\\n",
    "                                           order by ticket_frequency desc\")\n",
    "parking_violations_on_seasons.show()"
   ]
  },
  {
   "cell_type": "markdown",
   "metadata": {},
   "source": [
    "##### 6.6.2. Find the three most common violations for each of these seasons."
   ]
  },
  {
   "cell_type": "code",
   "execution_count": 59,
   "metadata": {},
   "outputs": [
    {
     "name": "stdout",
     "output_type": "stream",
     "text": [
      "+--------------+---------------+\n",
      "|violation_code|violation_count|\n",
      "+--------------+---------------+\n",
      "|            21|         397739|\n",
      "|            36|         344366|\n",
      "|            38|         270030|\n",
      "+--------------+---------------+\n",
      "\n"
     ]
    }
   ],
   "source": [
    "# Three most commonly occuring violation for spring i.e. from March to May\n",
    "\n",
    "spring = spark.sql(\"select Violation_Code as violation_code, count(*) as violation_count \\\n",
    "                    from seasons_2017 \\\n",
    "                    where Season == 'spring' \\\n",
    "                    group by violation_code \\\n",
    "                    order by violation_count desc \\\n",
    "                    limit 3 \")\n",
    "spring.show()"
   ]
  },
  {
   "cell_type": "code",
   "execution_count": 60,
   "metadata": {},
   "outputs": [
    {
     "name": "stdout",
     "output_type": "stream",
     "text": [
      "+--------------+---------------+\n",
      "|violation_code|violation_count|\n",
      "+--------------+---------------+\n",
      "|            21|         235365|\n",
      "|            36|         220956|\n",
      "|            38|         186833|\n",
      "+--------------+---------------+\n",
      "\n"
     ]
    }
   ],
   "source": [
    "# Three most commonly occuring violation for winter i.e. from December to February\n",
    "\n",
    "winter = spark.sql(\"select Violation_Code as violation_code, count(*) as violation_count \\\n",
    "                    from seasons_2017 \\\n",
    "                    where Season == 'winter' \\\n",
    "                    group by violation_code \\\n",
    "                    order by violation_count desc \\\n",
    "                    limit 3 \")\n",
    "winter.show()"
   ]
  },
  {
   "cell_type": "code",
   "execution_count": 61,
   "metadata": {},
   "outputs": [
    {
     "name": "stdout",
     "output_type": "stream",
     "text": [
      "+--------------+---------------+\n",
      "|violation_code|violation_count|\n",
      "+--------------+---------------+\n",
      "|            21|         126366|\n",
      "|            36|          96505|\n",
      "|            38|          83190|\n",
      "+--------------+---------------+\n",
      "\n"
     ]
    }
   ],
   "source": [
    "# Three most commonly occuring violation for summer i.e. from June to September\n",
    "\n",
    "summer = spark.sql(\"select Violation_Code as violation_code, count(*) as violation_count \\\n",
    "                    from seasons_2017 \\\n",
    "                    where Season == 'summer' \\\n",
    "                    group by violation_code \\\n",
    "                    order by violation_count desc \\\n",
    "                    limit 3 \")\n",
    "summer.show()"
   ]
  },
  {
   "cell_type": "code",
   "execution_count": 62,
   "metadata": {},
   "outputs": [
    {
     "name": "stdout",
     "output_type": "stream",
     "text": [
      "+--------------+---------------+\n",
      "|violation_code|violation_count|\n",
      "+--------------+---------------+\n",
      "|            46|            203|\n",
      "|            21|            118|\n",
      "|            40|            113|\n",
      "+--------------+---------------+\n",
      "\n"
     ]
    }
   ],
   "source": [
    "# Three most commonly occuring violation for autumn i.e. from September to November\n",
    "\n",
    "autumn = spark.sql(\"select Violation_Code as violation_code, count(*) as violation_count \\\n",
    "                    from seasons_2017 \\\n",
    "                    where Season == 'autumn' \\\n",
    "                    group by violation_code \\\n",
    "                    order by violation_count desc \\\n",
    "                    limit 3 \")\n",
    "autumn.show()"
   ]
  },
  {
   "cell_type": "markdown",
   "metadata": {},
   "source": [
    "Per the results from above, it can be inferred that \n",
    "    - Maximum Ticket Frequency occur in Spring followed by Winter, Summer and Autumn. Autumn has the least Ticket Frequency.\n",
    "    - Most commonly occuring violation codes during Spring, Winter and Summer are 21,36 and 38\n",
    "    - Most commonly occuring violation codes during Autumn are 46, 21 and 40"
   ]
  },
  {
   "cell_type": "markdown",
   "metadata": {},
   "source": [
    "#### 6.7. The fines collected from all the instances of parking violation constitute a source of revenue for the NYC Police Department. Let’s take an example of estimating this for the three most commonly occurring codes:\n",
    "    - Find the total occurrences of the three most common violation codes.      \n",
    "    - Then, visit the website: http://www1.nyc.gov/site/finance/vehicles/services-violation-codes.page\n",
    "      It lists the fines associated with different violation codes. They’re divided into two categories: one for \n",
    "      the highest-density locations in the city and the other for the rest of the city. For the sake of simplicity, \n",
    "      take the average of the two.\n",
    "    - Using this information, find the total amount collected for the three violation codes with the maximum tickets.\n",
    "      State the code that has the highest total collection.\n",
    "    - What can you intuitively infer from these findings?"
   ]
  },
  {
   "cell_type": "markdown",
   "metadata": {},
   "source": [
    "##### 6.7.1 Find the total occurrences of the three most common violation codes.  "
   ]
  },
  {
   "cell_type": "code",
   "execution_count": 63,
   "metadata": {},
   "outputs": [
    {
     "name": "stdout",
     "output_type": "stream",
     "text": [
      "+--------------+----------------+\n",
      "|violation_code|ticket_frequency|\n",
      "+--------------+----------------+\n",
      "|            21|          759588|\n",
      "|            36|          661827|\n",
      "|            38|          540060|\n",
      "+--------------+----------------+\n",
      "\n"
     ]
    }
   ],
   "source": [
    "top_3_common_violations = spark.sql(\"select Violation_Code as violation_code, count(*) as ticket_frequency \\\n",
    "                                    from parking_2017 \\\n",
    "                                    group by violation_code \\\n",
    "                                    order by ticket_frequency desc \\\n",
    "                                    limit 3\")\n",
    "top_3_common_violations.show()"
   ]
  },
  {
   "cell_type": "markdown",
   "metadata": {},
   "source": [
    "##### 6.7.2 Find the total amount collected for the three violation codes with  maximum tickets. State the code that has the highest total collection "
   ]
  },
  {
   "cell_type": "code",
   "execution_count": 64,
   "metadata": {},
   "outputs": [
    {
     "name": "stdout",
     "output_type": "stream",
     "text": [
      "+--------------+----------------+-----------+\n",
      "|violation_code|ticket_frequency|fine_amount|\n",
      "+--------------+----------------+-----------+\n",
      "|            21|          759588|   41777340|\n",
      "|            36|          661827|   33091350|\n",
      "|            38|          540060|   27003000|\n",
      "+--------------+----------------+-----------+\n",
      "\n"
     ]
    }
   ],
   "source": [
    "# From the above result we know the top three violation codes.\n",
    "\n",
    "# As per the website, the average prices for the three violation codes are as follows:\n",
    "#   For violation code 21 = (65 + 45)/2 = $55\n",
    "#   For violation code 36 = (50 + 50)/2 = $50\n",
    "#   For violation code 38 = (65 + 35)/2 = $50\n",
    "\n",
    "from pyspark.sql.functions import when\n",
    "\n",
    "common_violations_fine_amount = top_3_common_violations \\\n",
    "                                .withColumn(\"fine_amount\",when(top_3_common_violations.violation_code == 21, \\\n",
    "                                (top_3_common_violations.ticket_frequency) *55) \\\n",
    "                                .otherwise((top_3_common_violations.ticket_frequency)*50))\n",
    "\n",
    "common_violations_fine_amount.show()"
   ]
  },
  {
   "cell_type": "markdown",
   "metadata": {},
   "source": [
    "The highest fine amount was collected for violation code 21."
   ]
  },
  {
   "cell_type": "code",
   "execution_count": 65,
   "metadata": {},
   "outputs": [
    {
     "name": "stdout",
     "output_type": "stream",
     "text": [
      "Total amount collected for the three violation codes with maximum tickets :  [Row(sum(fine_amount)=101871690)]\n"
     ]
    }
   ],
   "source": [
    "# Total amount collected for the three violation codes with maximum tickets\n",
    "\n",
    "from pyspark.sql import functions as F\n",
    "\n",
    "total = common_violations_fine_amount.agg(F.sum(\"fine_amount\")).collect()\n",
    "print('Total amount collected for the three violation codes with maximum tickets : ', total)"
   ]
  },
  {
   "cell_type": "code",
   "execution_count": 66,
   "metadata": {},
   "outputs": [
    {
     "name": "stdout",
     "output_type": "stream",
     "text": [
      "+--------------+----------------+-----------+\n",
      "|violation_code|ticket_frequency|fine_amount|\n",
      "+--------------+----------------+-----------+\n",
      "|            21|          759588|   41777340|\n",
      "+--------------+----------------+-----------+\n",
      "only showing top 1 row\n",
      "\n"
     ]
    }
   ],
   "source": [
    "# State the code that has the highest total collection\n",
    "\n",
    "common_violations_fine_amount.show(1)"
   ]
  },
  {
   "cell_type": "markdown",
   "metadata": {},
   "source": [
    "The violation code that has the highest violation is 21"
   ]
  },
  {
   "cell_type": "markdown",
   "metadata": {},
   "source": [
    "##### 6.7.3 What can you intuitively infer from these findings?"
   ]
  },
  {
   "cell_type": "markdown",
   "metadata": {},
   "source": [
    "###### Inference :\n",
    "    - Total Number of tickets issued for the year 2017 is 53,75,792.\n",
    "    - May 2017 had the highest parking tickets issued followed by March and April.\n",
    "    - There are 64 unique states where the cars that got parking tickets came from.\n",
    "    - New York has the highest parking violations followed by New Jersey and Pennsylvania.\n",
    "    - Plate Id 96089MA had the maximum parking violations.\n",
    "    - The top 3 violation codes are 21, 36 and 38\n",
    "        - Code 21 - No parking where parking is not allowed by sign, street marking or traffic control device.\n",
    "        - Code 36 - Exceeding the posted speed limit in or near a designated school zone.\n",
    "        - Code 38 - Parking Meter - Failing to show a receipt or tag in the windshield.Drivers get a 5-minute grace period \n",
    "                    past the expired time on parking meter receipts.\n",
    "    - For Vehical Body Type, maximum parking violations happen for Suburban(SUBN) followed by four door sedan(4DSD) and Van\n",
    "    - For Vehicle Make, maximum parking violations happen for Ford follwed by Toyota and Honda\n",
    "    - The top 3 violation precincts and Issuer Precincts where maximum parking violations happen are 19, 14 and 1 \n",
    "    - The top 3 violation codes across precincts 19, 14 and 1 where the parking tickets were issued are 14, 46 and 38\n",
    "        - Code 14 - General No Standing: Standing or parking where standing is not allowed by sign, street marking or; \n",
    "                    traffic control device.\n",
    "        - Code 46 - Standing or parking on the roadway side of a vehicle stopped, standing or parked at the curb; in other \n",
    "                    words also known as \"double parking\".\n",
    "    - Maximum Ticket Frequency occur in Spring followed by Winter, Summer and Autumn. Autumn has the least Ticket Frequency.\n",
    "    - Most commonly occuring violation codes during Spring, Winter and Summer are 21,36 and 38.\n",
    "    - Most commonly occuring violation codes during Autumn are 46, 21 and 40\n",
    "    - The highest fine amount of $42,225,700 was for violation code 21.\n",
    "    - A total fine amount of $102,440,250 was collected for the three violation codes 21, 36 and 38 \n",
    "    "
   ]
  },
  {
   "cell_type": "code",
   "execution_count": 67,
   "metadata": {},
   "outputs": [],
   "source": [
    "# stop the session\n",
    "\n",
    "spark.stop()"
   ]
  },
  {
   "cell_type": "code",
   "execution_count": null,
   "metadata": {},
   "outputs": [],
   "source": []
  }
 ],
 "metadata": {
  "celltoolbar": "Raw Cell Format",
  "kernelspec": {
   "display_name": "Python 3 (ipykernel)",
   "language": "python",
   "name": "python3"
  },
  "language_info": {
   "codemirror_mode": {
    "name": "ipython",
    "version": 3
   },
   "file_extension": ".py",
   "mimetype": "text/x-python",
   "name": "python",
   "nbconvert_exporter": "python",
   "pygments_lexer": "ipython3",
   "version": "3.9.7"
  }
 },
 "nbformat": 4,
 "nbformat_minor": 2
}
